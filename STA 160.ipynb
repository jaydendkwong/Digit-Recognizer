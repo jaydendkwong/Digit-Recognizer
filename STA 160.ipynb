{
 "cells": [
  {
   "cell_type": "code",
   "execution_count": null,
   "id": "18124ee3",
   "metadata": {},
   "outputs": [],
   "source": [
    "import pandas as pd\n",
    "import numpy as np\n",
    "import matplotlib.pyplot as plt\n",
    "import seaborn as sns\n",
    "\n",
    "from sklearn.ensemble import RandomForestClassifier, GradientBoostingClassifier\n",
    "from sklearn.neighbors import KNeighborsClassifier\n",
    "from sklearn.model_selection import train_test_split, GridSearchCV\n",
    "from sklearn.metrics import accuracy_score, classification_report, confusion_matrix, ConfusionMatrixDisplay\n",
    "\n",
    "from sklearn.decomposition import PCA\n",
    "from sklearn.manifold import TSNE\n"
   ]
  },
  {
   "cell_type": "code",
   "execution_count": null,
   "id": "7e339e47",
   "metadata": {},
   "outputs": [],
   "source": [
    "df = pd.read_csv('train.csv')\n",
    "df.shape"
   ]
  },
  {
   "cell_type": "markdown",
   "id": "3152609c",
   "metadata": {},
   "source": [
    "420000 observations, 785 columns"
   ]
  },
  {
   "cell_type": "code",
   "execution_count": null,
   "id": "dc760e49",
   "metadata": {},
   "outputs": [],
   "source": [
    "df.dtypes"
   ]
  },
  {
   "cell_type": "code",
   "execution_count": null,
   "id": "03b44b38",
   "metadata": {},
   "outputs": [],
   "source": [
    "df"
   ]
  },
  {
   "cell_type": "code",
   "execution_count": null,
   "id": "3aca20e0",
   "metadata": {},
   "outputs": [],
   "source": [
    "# Identify pixel columns\n",
    "pixel_columns = [f\"pixel{i}\" for i in range(784)]\n",
    "\n",
    "# Create a binary matrix: 1 if pixel > 0, else 0\n",
    "pixel_activity = (df[pixel_columns] > 0).sum(axis=0).values.reshape(28, 28)\n",
    "\n",
    "# Plot heatmap of active pixel frequencies\n",
    "plt.figure(figsize=(6, 6))\n",
    "sns.heatmap(pixel_activity)\n",
    "plt.title(\"Pixel Activity Heatmap\\n(How Often Each Pixel is Used Across All Digits)\")\n",
    "plt.axis(\"off\")\n",
    "plt.show()"
   ]
  },
  {
   "cell_type": "markdown",
   "id": "17c66cf4",
   "metadata": {},
   "source": [
    "Variable Creation"
   ]
  },
  {
   "cell_type": "code",
   "execution_count": null,
   "id": "325c0542",
   "metadata": {},
   "outputs": [],
   "source": [
    "# Identify pixel columns\n",
    "pixel_columns = [f\"pixel{i}\" for i in range(784)]\n",
    "\n",
    "df[\"total_ink\"] = df[pixel_columns].sum(axis=1)\n",
    "df[\"avg_intensity\"] = df[pixel_columns].mean(axis=1)\n",
    "df[\"std_intensity\"] = df[pixel_columns].std(axis=1)\n",
    "df[\"active_pixels\"] = (df[pixel_columns] > 0).sum(axis=1)\n",
    "df[\"min_nonzero_intensity\"] = df[pixel_columns].replace(0, pd.NA).min(axis=1).fillna(0)\n",
    "df[\"max_intensity\"] = df[pixel_columns].max(axis=1)\n",
    "\n",
    "df = df[[\"total_ink\", \"avg_intensity\", \"std_intensity\",\n",
    "         \"active_pixels\", \"min_nonzero_intensity\", \"max_intensity\", \"label\"]].copy()\n",
    "\n",
    "df"
   ]
  },
  {
   "cell_type": "markdown",
   "id": "faf1c407",
   "metadata": {},
   "source": [
    "EDA"
   ]
  },
  {
   "cell_type": "code",
   "execution_count": null,
   "id": "11874fac",
   "metadata": {},
   "outputs": [],
   "source": [
    "df['label'].value_counts().sort_index().plot(kind='bar')\n",
    "plt.title('Number of Samples per Digit')\n",
    "plt.xlabel('Digit')\n",
    "plt.ylabel('Count')\n",
    "plt.show()\n"
   ]
  },
  {
   "cell_type": "code",
   "execution_count": null,
   "id": "0a8c5250",
   "metadata": {},
   "outputs": [],
   "source": [
    "plt.figure(figsize=(12, 6))\n",
    "sns.boxplot(x='label', y='total_ink', data=df)\n",
    "plt.title('Total Ink Distribution by Digit')\n",
    "plt.show()\n"
   ]
  },
  {
   "cell_type": "code",
   "execution_count": null,
   "id": "6a92f491",
   "metadata": {},
   "outputs": [],
   "source": [
    "sns.heatmap(df[[\"total_ink\", \"avg_intensity\", \"std_intensity\", \"active_pixels\", \"min_nonzero_intensity\", \"max_intensity\"]].corr(), annot=True, cmap='coolwarm')\n",
    "plt.title('Feature Correlations')\n",
    "plt.show()"
   ]
  },
  {
   "cell_type": "code",
   "execution_count": null,
   "id": "0583c87e",
   "metadata": {},
   "outputs": [],
   "source": [
    "sns.scatterplot(x=\"total_ink\", y=\"active_pixels\", hue=\"label\", data=df, palette=\"tab10\")\n",
    "plt.title(\"Ink Usage vs. Active Pixels by Digit\")\n",
    "plt.show()"
   ]
  },
  {
   "cell_type": "code",
   "execution_count": null,
   "id": "dae03a8f",
   "metadata": {},
   "outputs": [],
   "source": [
    "df = pd.read_csv(\"train.csv\")\n",
    "\n",
    "pixel_columns = [f\"pixel{i}\" for i in range(784)]\n",
    "X = df[pixel_columns].values\n",
    "y = df[\"label\"].values\n",
    "\n",
    "tsne = TSNE(n_components=2, perplexity=30, n_iter=500, random_state=123)\n",
    "X_tsne = tsne.fit_transform(X)\n",
    "\n",
    "plt.figure(figsize=(8, 6))\n",
    "sns.scatterplot(x=X_tsne[:, 0], y=X_tsne[:, 1], hue=y, palette=\"tab10\", s=20, legend='full')\n",
    "plt.title(\"t-SNE: 2D Projection of Handwritten Digits\")\n",
    "plt.xlabel(\"t-SNE 1\")\n",
    "plt.ylabel(\"t-SNE 2\")\n",
    "plt.legend(title=\"Digit\")\n",
    "plt.tight_layout()\n",
    "plt.show()\n"
   ]
  },
  {
   "cell_type": "markdown",
   "id": "acfb2e50",
   "metadata": {},
   "source": [
    "Base Model"
   ]
  },
  {
   "cell_type": "code",
   "execution_count": null,
   "id": "7e54c0e8",
   "metadata": {},
   "outputs": [],
   "source": [
    "df = pd.read_csv(\"train.csv\")\n",
    "pixel_columns = [col for col in df.columns if col.startswith(\"pixel\")]\n",
    "\n",
    "df[\"total_ink\"] = df[pixel_columns].sum(axis=1)\n",
    "df[\"avg_intensity\"] = df[pixel_columns].mean(axis=1)\n",
    "df[\"std_intensity\"] = df[pixel_columns].std(axis=1)\n",
    "df[\"active_pixels\"] = (df[pixel_columns] > 0).sum(axis=1)\n",
    "df[\"min_nonzero_intensity\"] = df[pixel_columns].replace(0, pd.NA).min(axis=1).fillna(0)\n",
    "df[\"max_intensity\"] = df[pixel_columns].max(axis=1)\n",
    "\n",
    "df = df[[\"total_ink\", \"avg_intensity\", \"std_intensity\",\n",
    "         \"active_pixels\", \"min_nonzero_intensity\", \"max_intensity\", \"label\"]].copy()\n",
    "\n",
    "feature_cols = [\"total_ink\", \"avg_intensity\", \"std_intensity\",\n",
    "                 \"active_pixels\", \"min_nonzero_intensity\", \"max_intensity\"]\n",
    "X = df[feature_cols]\n",
    "y = df[\"label\"]\n",
    "\n",
    "X_train, X_test, y_train, y_test = train_test_split(X, y, test_size=0.2, random_state=123)\n",
    "\n",
    "models = {\n",
    "    \"Random Forest\": RandomForestClassifier(n_estimators=100, random_state=123),\n",
    "    \"Gradient Boosting\": GradientBoostingClassifier(n_estimators=100, random_state=123),\n",
    "    \"KNN\": KNeighborsClassifier(n_neighbors=5)\n",
    "}\n",
    "\n",
    "# Train and evaluate models\n",
    "results = {}\n",
    "for name, model in models.items():\n",
    "    model.fit(X_train, y_train)\n",
    "    y_pred = model.predict(X_test)\n",
    "    \n",
    "    acc = accuracy_score(y_test, y_pred)\n",
    "    results[name] = acc\n",
    "    \n",
    "    print(f\"\\n {name} \")\n",
    "    print(f\"Accuracy: {acc:.3f}\")\n",
    "    print(classification_report(y_test, y_pred))\n",
    "    \n",
    "    ConfusionMatrixDisplay(confusion_matrix(y_test, y_pred), display_labels=range(10)).plot(cmap='Blues')\n",
    "    plt.title(f\"{name} - Confusion Matrix\")\n",
    "    plt.show()\n",
    "\n",
    "print(\"Model Comparison Summary\")\n",
    "for name, acc in results.items():\n",
    "    print(f\"{name}: {acc:.3f}\")\n"
   ]
  },
  {
   "cell_type": "markdown",
   "id": "2af8baa3",
   "metadata": {},
   "source": [
    "Feature Importance"
   ]
  },
  {
   "cell_type": "code",
   "execution_count": null,
   "id": "3c5faf0c",
   "metadata": {},
   "outputs": [],
   "source": [
    "feature_cols = [\"total_ink\", \"avg_intensity\", \"std_intensity\", \"active_pixels\", \"min_nonzero_intensity\", \"max_intensity\"]\n",
    "X = df[feature_cols]\n",
    "y = df[\"label\"]\n",
    "\n",
    "X_train, X_test, y_train, y_test = train_test_split(X, y, test_size=0.2, random_state=123)\n",
    "\n",
    "# Feature importance for Random Forest\n",
    "rf_model = RandomForestClassifier(n_estimators=100, random_state=123)\n",
    "rf_model.fit(X_train, y_train)\n",
    "\n",
    "rf_importance = pd.Series(rf_model.feature_importances_, index=feature_cols).sort_values(ascending=False)\n",
    "print(\"Random Forest Feature Importance:\")\n",
    "print(rf_importance)\n",
    "\n",
    "rf_importance.plot(kind=\"barh\", title=\"Random Forest - Feature Importance\", color=\"skyblue\")\n",
    "plt.xlabel(\"Importance\")\n",
    "plt.show()\n",
    "\n",
    "# Feature Importance for Gradient Boosting\n",
    "gb_model = GradientBoostingClassifier(n_estimators=100, random_state=123)\n",
    "gb_model.fit(X_train, y_train)\n",
    "\n",
    "gb_importance = pd.Series(gb_model.feature_importances_, index=feature_cols).sort_values(ascending=False)\n",
    "print(\"Gradient Boosting Feature Importance:\")\n",
    "print(gb_importance)\n",
    "\n",
    "gb_importance.plot(kind=\"barh\", title=\"Gradient Boosting - Feature Importance\", color=\"salmon\")\n",
    "plt.xlabel(\"Importance\")\n",
    "plt.show()\n"
   ]
  },
  {
   "cell_type": "markdown",
   "id": "1568dc89",
   "metadata": {},
   "source": [
    "Modeling"
   ]
  },
  {
   "cell_type": "markdown",
   "id": "b29d36c5",
   "metadata": {},
   "source": [
    "Random Forest (w/o Max Intensity) recommended by feature importance"
   ]
  },
  {
   "cell_type": "code",
   "execution_count": null,
   "id": "5bd4dc12",
   "metadata": {},
   "outputs": [],
   "source": [
    "# Features without max_intensity\n",
    "feature_cols_rf = [\"total_ink\", \"avg_intensity\", \"std_intensity\", \"active_pixels\", \"min_nonzero_intensity\"]\n",
    "X_rf = df[feature_cols_rf]\n",
    "\n",
    "X_train_rf, X_test_rf, y_train_rf, y_test_rf = train_test_split(X_rf, y, test_size=0.2, random_state=123)\n",
    "\n",
    "rf_model = RandomForestClassifier(n_estimators=100, random_state=123)\n",
    "rf_model.fit(X_train_rf, y_train_rf)\n",
    "\n",
    "y_pred_rf = rf_model.predict(X_test_rf)\n",
    "\n",
    "acc_rf = accuracy_score(y_test_rf, y_pred_rf)\n",
    "print(\"\\n Random Forest (without max_intensity)\")\n",
    "print(f\"Accuracy: {acc_rf:.3f}\")\n",
    "print(classification_report(y_test_rf, y_pred_rf))\n"
   ]
  },
  {
   "cell_type": "markdown",
   "id": "60b55b6b",
   "metadata": {},
   "source": [
    "Gradient Boosting Recommended by Feature Importance"
   ]
  },
  {
   "cell_type": "code",
   "execution_count": null,
   "id": "ec041b87",
   "metadata": {},
   "outputs": [],
   "source": [
    "feature_cols_gb = [\"std_intensity\", \"active_pixels\"]\n",
    "X_gb = df[feature_cols_gb]\n",
    "\n",
    "X_train_gb, X_test_gb, y_train_gb, y_test_gb = train_test_split(X_gb, y, test_size=0.2, random_state=123)\n",
    "\n",
    "gb_model = GradientBoostingClassifier(n_estimators=100, random_state=123)\n",
    "gb_model.fit(X_train_gb, y_train_gb)\n",
    "\n",
    "y_pred_gb = gb_model.predict(X_test_gb)\n",
    "\n",
    "acc_gb = accuracy_score(y_test_gb, y_pred_gb)\n",
    "print(\"\\nGradient Boosting (only std_intensity & active_pixels)\")\n",
    "print(f\"Accuracy: {acc_gb:.3f}\")\n",
    "print(classification_report(y_test_gb, y_pred_gb))\n"
   ]
  },
  {
   "cell_type": "markdown",
   "id": "f0760aac",
   "metadata": {},
   "source": [
    "Hyperparamter Tuning"
   ]
  },
  {
   "cell_type": "markdown",
   "id": "35011533",
   "metadata": {},
   "source": [
    "Finding the best n_estimator for RandomForest and Gradient Boosting"
   ]
  },
  {
   "cell_type": "code",
   "execution_count": null,
   "id": "d9c8b634",
   "metadata": {},
   "outputs": [],
   "source": [
    "errors_rf = []\n",
    "n_values = range(10, 201, 10)\n",
    "\n",
    "for n in n_values:\n",
    "    rf_model = RandomForestClassifier(n_estimators=n, random_state=123)\n",
    "    rf_model.fit(X_train, y_train)\n",
    "    errors_rf.append(1 - rf_model.score(X_test, y_test))\n",
    "\n",
    "errors_gb = []\n",
    "for n in n_values:\n",
    "    gb_model = GradientBoostingClassifier(n_estimators=n, random_state=123)\n",
    "    gb_model.fit(X_train, y_train)\n",
    "    errors_gb.append(1 - gb_model.score(X_test, y_test))\n",
    "\n",
    "plt.figure(figsize=(10, 6))\n",
    "plt.plot(n_values, errors_rf, marker='o', color='skyblue', label=\"Random Forest\")\n",
    "plt.plot(n_values, errors_gb, marker='o', color='salmon', label=\"Gradient Boosting\")\n",
    "plt.xlabel(\"Number of Trees (n_estimators)\")\n",
    "plt.ylabel(\"Test Error\")\n",
    "plt.title(\"Test Error vs. n_estimators: Random Forest vs. Gradient Boosting\")\n",
    "plt.legend()\n",
    "plt.grid(True)\n",
    "plt.show()\n",
    "\n",
    "min_error_rf = min(errors_rf)\n",
    "best_n_rf = n_values[errors_rf.index(min_error_rf)]\n",
    "print(f\"Random Forest: Lowest Test Error = {min_error_rf:.4f} at n_estimators = {best_n_rf}\")\n",
    "\n",
    "min_error_gb = min(errors_gb)\n",
    "best_n_gb = n_values[errors_gb.index(min_error_gb)]\n",
    "print(f\"Gradient Boosting: Lowest Test Error = {min_error_gb:.4f} at n_estimators = {best_n_gb}\")\n"
   ]
  },
  {
   "cell_type": "markdown",
   "id": "efa41c28",
   "metadata": {},
   "source": [
    "KNN finding the best K"
   ]
  },
  {
   "cell_type": "code",
   "execution_count": null,
   "id": "d30adb88",
   "metadata": {},
   "outputs": [],
   "source": [
    "# Grid search for best k\n",
    "param_grid_knn = {'n_neighbors': list(range(1, 21))}  # Try k from 1 to 20\n",
    "\n",
    "grid_search_knn = GridSearchCV(KNeighborsClassifier(),\n",
    "                               param_grid_knn,\n",
    "                               cv=5,\n",
    "                               scoring='accuracy',\n",
    "                               n_jobs=-1)\n",
    "\n",
    "grid_search_knn.fit(X_train, y_train)\n",
    "\n",
    "# Best k\n",
    "best_k = grid_search_knn.best_params_['n_neighbors']\n",
    "best_acc = grid_search_knn.best_score_\n",
    "\n",
    "print(f\"Best k (n_neighbors) for KNN: {best_k}\")\n",
    "print(f\"Cross-validated accuracy: {best_acc:.4f}\")\n"
   ]
  },
  {
   "cell_type": "markdown",
   "id": "27da141d",
   "metadata": {},
   "source": [
    "Build model using the selected n_estimators and K"
   ]
  },
  {
   "cell_type": "markdown",
   "id": "b5ff1cb9",
   "metadata": {},
   "source": [
    "Final Model: Random Forest"
   ]
  },
  {
   "cell_type": "code",
   "execution_count": null,
   "id": "06a114f3",
   "metadata": {},
   "outputs": [],
   "source": [
    "# Features without max_intensity\n",
    "feature_cols_rf = [\"total_ink\", \"avg_intensity\", \"std_intensity\", \"active_pixels\", \"min_nonzero_intensity\"]\n",
    "X_rf = df[feature_cols_rf]\n",
    "\n",
    "X_train_rf, X_test_rf, y_train_rf, y_test_rf = train_test_split(X_rf, y, test_size=0.2, random_state=123)\n",
    "\n",
    "rf_model = RandomForestClassifier(n_estimators=best_n_rf, random_state=123)\n",
    "rf_model.fit(X_train_rf, y_train_rf)\n",
    "\n",
    "y_pred_rf = rf_model.predict(X_test_rf)\n",
    "\n",
    "acc_rf = accuracy_score(y_test_rf, y_pred_rf)\n",
    "print(\"\\n Final Model: Random Forest (without max_intensity)\")\n",
    "print(f\"Accuracy: {acc_rf:.3f}\")\n",
    "print(classification_report(y_test_rf, y_pred_rf))"
   ]
  },
  {
   "cell_type": "markdown",
   "id": "a419327e",
   "metadata": {},
   "source": [
    "Final Model: Gradient Boosting"
   ]
  },
  {
   "cell_type": "code",
   "execution_count": null,
   "id": "d6bfa9e2",
   "metadata": {},
   "outputs": [],
   "source": [
    "feature_cols_gb = [\"std_intensity\", \"active_pixels\"]\n",
    "X_gb = df[feature_cols_gb]\n",
    "\n",
    "X_train_gb, X_test_gb, y_train_gb, y_test_gb = train_test_split(X_gb, y, test_size=0.2, random_state=123)\n",
    "\n",
    "gb_model = GradientBoostingClassifier(n_estimators=best_n_gb, random_state=123)\n",
    "gb_model.fit(X_train_gb, y_train_gb)\n",
    "\n",
    "y_pred_gb = gb_model.predict(X_test_gb)\n",
    "\n",
    "acc_gb = accuracy_score(y_test_gb, y_pred_gb)\n",
    "print(\"\\nFinal Model: Gradient Boosting (only std_intensity & active_pixels)\")\n",
    "print(f\"Accuracy: {acc_gb:.3f}\")\n",
    "print(classification_report(y_test_gb, y_pred_gb))"
   ]
  },
  {
   "cell_type": "code",
   "execution_count": null,
   "id": "78a89d8e",
   "metadata": {},
   "outputs": [],
   "source": [
    "feature_cols = [\"total_ink\", \"avg_intensity\", \"std_intensity\", \"active_pixels\", \"min_nonzero_intensity\", \"max_intensity\"]\n",
    "X = df[feature_cols]\n",
    "y = df[\"label\"]\n",
    "\n",
    "X_train, X_test, y_train, y_test = train_test_split(X, y, test_size=0.2, random_state=123)\n",
    "\n",
    "models = {\n",
    "    \"KNN\": KNeighborsClassifier(n_neighbors=best_k)\n",
    "}\n",
    "\n",
    "results = {}\n",
    "for name, model in models.items():\n",
    "    model.fit(X_train, y_train)\n",
    "    y_pred = model.predict(X_test)\n",
    "    \n",
    "    acc = accuracy_score(y_test, y_pred)\n",
    "    results[name] = acc\n",
    "    \n",
    "    print(f\"\\n=== {name} ===\")\n",
    "    print(f\"Accuracy: {acc:.3f}\")\n",
    "    print(classification_report(y_test, y_pred))\n",
    "    \n",
    "    ConfusionMatrixDisplay(confusion_matrix(y_test, y_pred), display_labels=range(10)).plot(cmap='Blues')\n",
    "    plt.title(f\"{name} - Confusion Matrix\")\n",
    "    plt.show()\n",
    "\n",
    "print(\"\\nModel Comparison Summary\")\n",
    "for name, acc in results.items():\n",
    "    print(f\"{name}: {acc:.3f}\")"
   ]
  },
  {
   "cell_type": "markdown",
   "id": "30e17029",
   "metadata": {},
   "source": []
  }
 ],
 "metadata": {
  "kernelspec": {
   "display_name": "Python 3",
   "language": "python",
   "name": "python3"
  },
  "language_info": {
   "codemirror_mode": {
    "name": "ipython",
    "version": 3
   },
   "file_extension": ".py",
   "mimetype": "text/x-python",
   "name": "python",
   "nbconvert_exporter": "python",
   "pygments_lexer": "ipython3",
   "version": "3.11.1"
  }
 },
 "nbformat": 4,
 "nbformat_minor": 5
}
